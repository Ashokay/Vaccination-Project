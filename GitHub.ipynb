{
  "nbformat": 4,
  "nbformat_minor": 0,
  "metadata": {
    "colab": {
      "provenance": [],
      "mount_file_id": "1TYT6TO8FK81O-g2lMQpvezTt_n9lA4hh",
      "authorship_tag": "ABX9TyOmUmPI+0B4AynADYILKFnI",
      "include_colab_link": true
    },
    "kernelspec": {
      "name": "python3",
      "display_name": "Python 3"
    },
    "language_info": {
      "name": "python"
    }
  },
  "cells": [
    {
      "cell_type": "markdown",
      "metadata": {
        "id": "view-in-github",
        "colab_type": "text"
      },
      "source": [
        "<a href=\"https://colab.research.google.com/github/Ashokay/Vaccination-Project/blob/main/GitHub.ipynb\" target=\"_parent\"><img src=\"https://colab.research.google.com/assets/colab-badge.svg\" alt=\"Open In Colab\"/></a>"
      ]
    },
    {
      "cell_type": "code",
      "execution_count": null,
      "metadata": {
        "colab": {
          "base_uri": "https://localhost:8080/"
        },
        "id": "FP_WIv9sSCD4",
        "outputId": "00218f79-4473-4c20-bde3-b8a0c7aa861a"
      },
      "outputs": [
        {
          "output_type": "stream",
          "name": "stdout",
          "text": [
            "Cloning into 'software'...\n",
            "remote: Enumerating objects: 185, done.\u001b[K\n",
            "remote: Counting objects: 100% (185/185), done.\u001b[K\n",
            "remote: Compressing objects: 100% (80/80), done.\u001b[K\n",
            "remote: Total 185 (delta 104), reused 180 (delta 100), pack-reused 0\u001b[K\n",
            "Receiving objects: 100% (185/185), 1.50 MiB | 3.82 MiB/s, done.\n",
            "Resolving deltas: 100% (104/104), done.\n"
          ]
        }
      ],
      "source": [
        "!git clone https://github.com/Ashokay/software.git"
      ]
    },
    {
      "cell_type": "code",
      "source": [
        "with open(\"/content/drive/MyDrive/Colab Notebooks/github.txt\", 'w') as f:\n",
        "  f.write(\"we have written something for github!\")"
      ],
      "metadata": {
        "id": "AXsegd4sTZkP"
      },
      "execution_count": null,
      "outputs": []
    },
    {
      "cell_type": "code",
      "source": [
        "file_path = 'drive/MyDrive/Colab Notebooks/github.txt'\n",
        "with open(file_path) as f:\n",
        "  text = f.read()\n",
        "  print(text)"
      ],
      "metadata": {
        "colab": {
          "base_uri": "https://localhost:8080/"
        },
        "id": "vqDADhYMTv3h",
        "outputId": "dcd98065-683f-4893-cbce-4e8eb559eb72"
      },
      "execution_count": null,
      "outputs": [
        {
          "output_type": "stream",
          "name": "stdout",
          "text": [
            "we have written something for github!\n",
            "thanks for collaboration!\n"
          ]
        }
      ]
    }
  ]
}